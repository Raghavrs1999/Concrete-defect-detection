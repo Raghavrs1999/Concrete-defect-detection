{
 "cells": [
  {
   "cell_type": "markdown",
   "id": "c67a43a4",
   "metadata": {},
   "source": [
    "Run this code after downloading all the files (concrete.weights, concrete.cfg, concrete.names)"
   ]
  },
  {
   "cell_type": "code",
   "execution_count": 1,
   "id": "ffa48e2c",
   "metadata": {},
   "outputs": [],
   "source": [
    "import cv2\n",
    "import os\n",
    "\n",
    "# Opencv DNN\n",
    "net = cv2.dnn.readNet(\"concrete.weights\", \"concrete.cfg\")\n",
    "model = cv2.dnn_DetectionModel(net)\n",
    "model.setInputParams(size=(416, 416), scale=1/255) # Read the \"concrete.cfg\" to know abour size \n",
    "\n",
    "# Load class lists\n",
    "classes = []\n",
    "with open(\"concrete.names\", \"r\") as file_object:\n",
    "    for class_name in file_object.readlines():\n",
    "        class_name = class_name.strip()\n",
    "        classes.append(class_name)\n",
    "\n",
    "# Specify the path to the directory containing the images change according to your directory\n",
    "path = \"E:/images/images/\"\n",
    "# Get a list of all the image files in the directory\n",
    "images = [os.path.join(path, f) for f in os.listdir(path) if os.path.isfile(os.path.join(path, f))]\n",
    "\n",
    "for image_path in images:\n",
    "    # Read the image from the file\n",
    "    frame = cv2.imread(image_path)\n",
    "\n",
    "    # Check if the image was read correctly\n",
    "    if frame is None:\n",
    "        print(f\"Error: Could not read image '{image_path}'\")\n",
    "        continue\n",
    "\n",
    "    # Resize the frame to a fixed size\n",
    "    frame = cv2.resize(frame, (864, 704))\n",
    "\n",
    "    # Object Detection\n",
    "    (class_ids, scores, bboxes) = model.detect(frame, confThreshold=0.3, nmsThreshold=.2)\n",
    "    for class_id, score, bbox in zip(class_ids, scores, bboxes):\n",
    "        (x, y, w, h) = bbox\n",
    "        class_name = classes[class_id]\n",
    "        score = score*100\n",
    "        text = \"{}: {:.2f}%\".format(class_name, score)\n",
    "        # Draw a bounding box and label around each detected object accorcing to the class \n",
    "        if class_id == 0:\n",
    "            cv2.rectangle(frame, (x, y), (x + w, y + h), (0,0,255), 2)\n",
    "            cv2.putText(frame, class_name, (x, y - 10), cv2.FONT_HERSHEY_PLAIN, 3, (0,0,255), 2) \n",
    "            '''\n",
    "            if you want to see confidence then use this\n",
    "            cv2.putText(frame, text, (x, y - 10), cv2.FONT_HERSHEY_PLAIN, 3, (0,0,255), 2)\n",
    "            '''\n",
    "        elif class_id == 1:\n",
    "            cv2.rectangle(frame, (x, y), (x + w, y + h), (0,255,0), 2)\n",
    "            cv2.putText(frame, class_name, (x, y - 10), cv2.FONT_HERSHEY_PLAIN, 3, (0,255,0), 2)\n",
    "            '''\n",
    "            if you want to see confidence then use this\n",
    "            cv2.putText(frame, text, (x, y - 10), cv2.FONT_HERSHEY_PLAIN, 3, (0,255,0), 2)\n",
    "            '''\n",
    "        elif class_id == 2:\n",
    "            cv2.rectangle(frame, (x, y), (x + w, y + h), (255,0,0), 2)\n",
    "            cv2.putText(frame, class_name, (x, y - 10), cv2.FONT_HERSHEY_PLAIN, 3, (255,0,0), 2)\n",
    "            '''\n",
    "            if you want to see confidence then use this\n",
    "            cv2.putText(frame, text, (x, y - 10), cv2.FONT_HERSHEY_PLAIN, 3, (255,0,0), 2)\n",
    "            '''\n",
    "\n",
    "    # Display the frame with the detected objects\n",
    "    cv2.imshow(\"Frame\", frame)\n",
    "\n",
    "    # Wait for a key press and check if the \"q\" or \"Esc\" key was pressed\n",
    "    key = cv2.waitKey(0) & 0xff\n",
    "    if key == ord(\"q\") or key == 27:\n",
    "        break\n",
    "\n",
    "# Close all windows\n",
    "cv2.destroyAllWindows()\n"
   ]
  }
 ],
 "metadata": {
  "kernelspec": {
   "display_name": "Python 3 (ipykernel)",
   "language": "python",
   "name": "python3"
  },
  "language_info": {
   "codemirror_mode": {
    "name": "ipython",
    "version": 3
   },
   "file_extension": ".py",
   "mimetype": "text/x-python",
   "name": "python",
   "nbconvert_exporter": "python",
   "pygments_lexer": "ipython3",
   "version": "3.10.7"
  },
  "varInspector": {
   "cols": {
    "lenName": 16,
    "lenType": 16,
    "lenVar": 40
   },
   "kernels_config": {
    "python": {
     "delete_cmd_postfix": "",
     "delete_cmd_prefix": "del ",
     "library": "var_list.py",
     "varRefreshCmd": "print(var_dic_list())"
    },
    "r": {
     "delete_cmd_postfix": ") ",
     "delete_cmd_prefix": "rm(",
     "library": "var_list.r",
     "varRefreshCmd": "cat(var_dic_list()) "
    }
   },
   "types_to_exclude": [
    "module",
    "function",
    "builtin_function_or_method",
    "instance",
    "_Feature"
   ],
   "window_display": false
  }
 },
 "nbformat": 4,
 "nbformat_minor": 5
}
